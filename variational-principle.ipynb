{
 "cells": [
  {
   "cell_type": "markdown",
   "metadata": {},
   "source": [
    "# Variational Principle  using Symbolic Mathematics in Python "
   ]
  },
  {
   "cell_type": "markdown",
   "metadata": {},
   "source": [
    "## 1. Introduction"
   ]
  },
  {
   "cell_type": "markdown",
   "metadata": {},
   "source": [
    "The variational principle tells us that we can use a trial wavefunction to solve the Schrodinger equation using the following theorem:\n",
    "\n",
    "$${{\\int {{\\Psi ^*}\\hat H{\\rm{ }}\\Psi } d\\tau } \\over {\\int {{\\Psi ^*}\\Psi } d\\tau }} \\ge {E_0}$$\n",
    "\n",
    "We will use Sympy to solve the particle in a box problem by guessing a trial wavefunction using variational principle"
   ]
  },
  {
   "cell_type": "code",
   "execution_count": 1,
   "metadata": {},
   "outputs": [],
   "source": [
    "import sympy as sym"
   ]
  },
  {
   "cell_type": "markdown",
   "metadata": {},
   "source": [
    "This exercise is a bit more self-guided than the other notebooks we have done. One of the most useful things you can do is **open last week's notebook to remember the commands in sympy**. Also, remember that google is your friend:\n",
    "\n",
    "1. [Sympy tutorial](https://docs.sympy.org/latest/tutorial/index.html)\n",
    "2. [Stack Overflow](https://stackoverflow.com/search?q=sympy+)\n",
    "3. [Stack Exchange](https://stackexchange.com/)"
   ]
  },
  {
   "cell_type": "markdown",
   "metadata": {},
   "source": [
    "## 2. Particle in a box"
   ]
  },
  {
   "cell_type": "markdown",
   "metadata": {},
   "source": [
    "The wave function that we pick for a particle in a box needs to have the following properties\n",
    "\n",
    "1. single valued\n",
    "1. normalizable\n",
    "1. function and its first derivative are continuous \n",
    "1. boundary condition that the wave function goes to zero at the ends of the box\n",
    "\n",
    "![Particle in a box](InfiniteSquareWellAnimation.gif)\n",
    "\n",
    "Particle in a box: a is a classical particle, red is real part, blue is imaginary part."
   ]
  },
  {
   "cell_type": "markdown",
   "metadata": {},
   "source": [
    "This particle only expericnes kinetic energy between the box, so the Hamiltonian for this system is\n",
    "\n",
    "$$\\hat H = {{ - {\\hbar ^2}} \\over {2m}}{{{d^2}} \\over {d{x^2}}} + \\left\\{ {\\matrix{{V(x) = 0} & {0 < x < a}  \\cr {V(x) = \\infty } & {x < 0\\text{ }{\\rm{ or}}\\;x > a}  \\cr } } \\right.$$\n",
    "\n",
    "For our purposes, that means we can consider the Hamiltonian to be \n",
    "\n",
    "$$\\hat H = {{ - {\\hbar ^2}} \\over {2m}}{{{d^2}} \\over {d{x^2}}}$$\n",
    "\n",
    "as long as we keep the limits of integration to be $(0,a)$"
   ]
  },
  {
   "cell_type": "markdown",
   "metadata": {},
   "source": [
    "### 2.1 Trial Wave function"
   ]
  },
  {
   "cell_type": "markdown",
   "metadata": {},
   "source": [
    "Although the particle in box has a well known solution\n",
    "\n",
    "[https://en.wikipedia.org/wiki/Particle_in_a_box](https://en.wikipedia.org/wiki/Particle_in_a_box)\n",
    "\n",
    "(or check your favorite pchem book)\n",
    "\n",
    "We are going to guess a trial wave function:\n",
    "\n",
    "$$\\Phi (x) = \\left( {{x \\over a} - {{{x^3}} \\over a}} \\right) + \\alpha \\left( {{{{x^5}} \\over {{a^5}}} - {1 \\over 2}\\left( {{{{x^7}} \\over {{a^7}}} + {{{x^7}} \\over {{a^7}}}} \\right)} \\right)$$"
   ]
  },
  {
   "cell_type": "markdown",
   "metadata": {},
   "source": [
    "### 2.2 Exercise: Variational Theorem"
   ]
  },
  {
   "cell_type": "markdown",
   "metadata": {},
   "source": [
    "We are going to follow the following plan:\n",
    "\n",
    "1. Solve for the energy of the trial wave function above  \n",
    "\n",
    "$${E_{trial}} = {{\\int\\limits_0^a {\\Phi (x){{ - {\\hbar ^2}} \\over {2m}}{{{d^2}} \\over {d{x^2}}}\\Phi (x)dx} } \\over {\\int\\limits_0^a {\\Phi {{(x)}^2}dx} }}$$\n",
    "\n",
    "Your answer will be a function of $ m,a,\\text{and } \\alpha$ We will use $\\alpha$ as the parameter we vary to minimize the energy and make a new trial wave function.\n",
    "\n",
    "2. Minimize the trial energy \n",
    "We will use a first derivative of the trial energy $${d \\over {d\\alpha }}{E_{trial}}(\\alpha )$$ to find the value of $\\alpha$ that gives you the lowest energy\n",
    "\n",
    "\n",
    "3. Plot your new wavefunction compared to the ground state particle in a box: $${\\psi _{true}}(x) = {\\left( {{2 \\over a}} \\right)^{1/2}}\\sin {{n\\pi x} \\over a}$$ Plot as a function of $x/a$ from $0$ to $1$. Assuming this has $m=m_e$, and $a=a_0$ use atomic (theorist) units to plot the function.\n",
    "\n",
    "4. Compare your trial energy to the actual energy (using atomic units)\n",
    "$${E_{true}}(n = 1) = {{{\\hbar ^2}{\\pi ^2}} \\over {2m{a^2}}}$$\n"
   ]
  },
  {
   "cell_type": "code",
   "execution_count": 2,
   "metadata": {},
   "outputs": [
    {
     "data": {
      "image/png": "[encoded data removed]",
      "text/latex": [
       "$\\displaystyle \\alpha \\left(\\frac{x^{5}}{a^{5}} - \\frac{1.0 x^{7}}{a^{7}}\\right) - \\frac{x^{3}}{a} + \\frac{x}{a}$"
      ],
      "text/plain": [
       "  ⎛ 5        7⎞    3    \n",
       "  ⎜x    1.0⋅x ⎟   x    x\n",
       "α⋅⎜── - ──────⎟ - ── + ─\n",
       "  ⎜ 5      7  ⎟   a    a\n",
       "  ⎝a      a   ⎠         "
      ]
     },
     "execution_count": 2,
     "metadata": {},
     "output_type": "execute_result"
    }
   ],
   "source": [
    "sym.init_printing()\n",
    "x,a,m,alpha,hbar,n=sym.symbols('x,a,m,alpha,hbar,n')\n",
    "\n",
    "twf=((x/a)-(x**3)/a)+alpha*((x**5)/(a**5)-0.5*((x**7)/(a**7)+(x**7)/(a**7)))\n",
    "twf"
   ]
  },
  {
   "cell_type": "code",
   "execution_count": 3,
   "metadata": {},
   "outputs": [
    {
     "data": {
      "image/png": "[encoded data removed]",
      "text/latex": [
       "$\\displaystyle \\alpha \\left(\\frac{20 x^{3}}{a^{5}} - \\frac{42.0 x^{5}}{a^{7}}\\right) - \\frac{6 x}{a}$"
      ],
      "text/plain": [
       "  ⎛    3         5⎞      \n",
       "  ⎜20⋅x    42.0⋅x ⎟   6⋅x\n",
       "α⋅⎜───── - ───────⎟ - ───\n",
       "  ⎜   5        7  ⎟    a \n",
       "  ⎝  a        a   ⎠      "
      ]
     },
     "execution_count": 3,
     "metadata": {},
     "output_type": "execute_result"
    }
   ],
   "source": [
    "single=(sym.diff((twf),x))\n",
    "double=(sym.diff((single),x))\n",
    "double"
   ]
  },
  {
   "cell_type": "code",
   "execution_count": 4,
   "metadata": {},
   "outputs": [
    {
     "data": {
      "image/png": "[encoded data removed]",
      "text/latex": [
       "$\\displaystyle \\frac{1.0 a \\hbar}{m} + \\frac{1.2027972027972 \\alpha^{2} \\hbar}{a m} + \\frac{0.2 \\left(- 3.0 a^{4} \\hbar - 10.0 \\alpha \\hbar\\right)}{a m} + \\frac{0.111111111111111 \\left(- 24.0 a^{2} \\alpha \\hbar - 10.0 \\alpha^{2} \\hbar\\right)}{a m} + \\frac{0.142857142857143 \\left(13.0 a^{2} \\alpha \\hbar + 21.0 \\alpha \\hbar\\right)}{a m}$"
      ],
      "text/plain": [
       "                            2          ⎛       4               ⎞              \n",
       "1.0⋅a⋅h̅   1.2027972027972⋅α ⋅h̅   0.2⋅⎝- 3.0⋅a ⋅h̅ - 10.0⋅α⋅h̅⎠   0.111111111\n",
       "──────── + ───────────────────── + ───────────────────────────── + ───────────\n",
       "   m                a⋅m                         a⋅m                           \n",
       "\n",
       "       ⎛        2              2   ⎞                     ⎛      2             \n",
       "111111⋅⎝- 24.0⋅a ⋅α⋅h̅ - 10.0⋅α ⋅h̅⎠   0.142857142857143⋅⎝13.0⋅a ⋅α⋅h̅ + 21.0⋅\n",
       "──────────────────────────────────── + ───────────────────────────────────────\n",
       "           a⋅m                                             a⋅m                \n",
       "\n",
       "    ⎞\n",
       "α⋅h̅⎠\n",
       "─────\n",
       "     "
      ]
     },
     "execution_count": 4,
     "metadata": {},
     "output_type": "execute_result"
    }
   ],
   "source": [
    "upper_i=twf*(-1*hbar)/(2*m)*double\n",
    "upper_i_ans=(sym.integrate((upper_i),(x,0,a)))\n",
    "upper_i_ans"
   ]
  },
  {
   "cell_type": "code",
   "execution_count": 5,
   "metadata": {},
   "outputs": [
    {
     "data": {
      "image/png": "[encoded data removed]",
      "text/latex": [
       "$\\displaystyle - 0.4 a^{3} - 0.0871794871794872 a \\alpha^{2} + 0.142857142857143 a \\left(1.0 a^{4} + 2.0 \\alpha\\right) + 0.111111111111111 a \\left(- 2.0 a^{2} \\alpha - 2.0 \\alpha\\right) + 0.0909090909090909 a \\left(2.0 a^{2} \\alpha + 1.0 \\alpha^{2}\\right) + 0.333333333333333 a$"
      ],
      "text/plain": [
       "       3                         2                       ⎛     4        ⎞     \n",
       "- 0.4⋅a  - 0.0871794871794872⋅a⋅α  + 0.142857142857143⋅a⋅⎝1.0⋅a  + 2.0⋅α⎠ + 0.\n",
       "\n",
       "                  ⎛       2          ⎞                        ⎛     2         \n",
       "111111111111111⋅a⋅⎝- 2.0⋅a ⋅α - 2.0⋅α⎠ + 0.0909090909090909⋅a⋅⎝2.0⋅a ⋅α + 1.0⋅\n",
       "\n",
       " 2⎞                      \n",
       "α ⎠ + 0.333333333333333⋅a"
      ]
     },
     "execution_count": 5,
     "metadata": {},
     "output_type": "execute_result"
    }
   ],
   "source": [
    "lower_i=twf**2\n",
    "lower_i_ans=(sym.integrate((lower_i),(x,0,a)))\n",
    "lower_i_ans"
   ]
  },
  {
   "cell_type": "code",
   "execution_count": 6,
   "metadata": {},
   "outputs": [
    {
     "data": {
      "image/png": "[encoded data removed]",
      "text/latex": [
       "$\\displaystyle \\frac{\\frac{1.0 a \\hbar}{m} + \\frac{1.2027972027972 \\alpha^{2} \\hbar}{a m} + \\frac{0.2 \\left(- 3.0 a^{4} \\hbar - 10.0 \\alpha \\hbar\\right)}{a m} + \\frac{0.111111111111111 \\left(- 24.0 a^{2} \\alpha \\hbar - 10.0 \\alpha^{2} \\hbar\\right)}{a m} + \\frac{0.142857142857143 \\left(13.0 a^{2} \\alpha \\hbar + 21.0 \\alpha \\hbar\\right)}{a m}}{- 0.4 a^{3} - 0.0871794871794872 a \\alpha^{2} + 0.142857142857143 a \\left(1.0 a^{4} + 2.0 \\alpha\\right) + 0.111111111111111 a \\left(- 2.0 a^{2} \\alpha - 2.0 \\alpha\\right) + 0.0909090909090909 a \\left(2.0 a^{2} \\alpha + 1.0 \\alpha^{2}\\right) + 0.333333333333333 a}$"
      ],
      "text/plain": [
       "                                      2          ⎛       4               ⎞    \n",
       "          1.0⋅a⋅h̅   1.2027972027972⋅α ⋅h̅   0.2⋅⎝- 3.0⋅a ⋅h̅ - 10.0⋅α⋅h̅⎠   0\n",
       "          ──────── + ───────────────────── + ───────────────────────────── + ─\n",
       "             m                a⋅m                         a⋅m                 \n",
       "──────────────────────────────────────────────────────────────────────────────\n",
       "       3                         2                       ⎛     4        ⎞     \n",
       "- 0.4⋅a  - 0.0871794871794872⋅a⋅α  + 0.142857142857143⋅a⋅⎝1.0⋅a  + 2.0⋅α⎠ + 0.\n",
       "\n",
       "                 ⎛        2              2   ⎞                     ⎛      2   \n",
       ".111111111111111⋅⎝- 24.0⋅a ⋅α⋅h̅ - 10.0⋅α ⋅h̅⎠   0.142857142857143⋅⎝13.0⋅a ⋅α⋅\n",
       "────────────────────────────────────────────── + ─────────────────────────────\n",
       "                     a⋅m                                             a⋅m      \n",
       "──────────────────────────────────────────────────────────────────────────────\n",
       "                  ⎛       2          ⎞                        ⎛     2         \n",
       "111111111111111⋅a⋅⎝- 2.0⋅a ⋅α - 2.0⋅α⎠ + 0.0909090909090909⋅a⋅⎝2.0⋅a ⋅α + 1.0⋅\n",
       "\n",
       "              ⎞          \n",
       "h̅ + 21.0⋅α⋅h̅⎠          \n",
       "───────────────          \n",
       "                         \n",
       "─────────────────────────\n",
       " 2⎞                      \n",
       "α ⎠ + 0.333333333333333⋅a"
      ]
     },
     "execution_count": 6,
     "metadata": {},
     "output_type": "execute_result"
    }
   ],
   "source": [
    "Etrial=upper_i_ans/lower_i_ans\n",
    "Etrial"
   ]
  },
  {
   "cell_type": "code",
   "execution_count": 7,
   "metadata": {},
   "outputs": [
    {
     "data": {
      "image/png": "[encoded data removed]",
      "text/latex": [
       "$\\displaystyle \\frac{\\left(0.174358974358974 a \\alpha - 0.111111111111111 a \\left(- 2.0 a^{2} - 2.0\\right) - 0.0909090909090909 a \\left(2.0 a^{2} + 2.0 \\alpha\\right) - 0.285714285714286 a\\right) \\left(\\frac{1.0 a \\hbar}{m} + \\frac{1.2027972027972 \\alpha^{2} \\hbar}{a m} + \\frac{0.2 \\left(- 3.0 a^{4} \\hbar - 10.0 \\alpha \\hbar\\right)}{a m} + \\frac{0.111111111111111 \\left(- 24.0 a^{2} \\alpha \\hbar - 10.0 \\alpha^{2} \\hbar\\right)}{a m} + \\frac{0.142857142857143 \\left(13.0 a^{2} \\alpha \\hbar + 21.0 \\alpha \\hbar\\right)}{a m}\\right)}{\\left(- 0.4 a^{3} - 0.0871794871794872 a \\alpha^{2} + 0.142857142857143 a \\left(1.0 a^{4} + 2.0 \\alpha\\right) + 0.111111111111111 a \\left(- 2.0 a^{2} \\alpha - 2.0 \\alpha\\right) + 0.0909090909090909 a \\left(2.0 a^{2} \\alpha + 1.0 \\alpha^{2}\\right) + 0.333333333333333 a\\right)^{2}} + \\frac{\\frac{2.40559440559441 \\alpha \\hbar}{a m} - \\frac{2.0 \\hbar}{a m} + \\frac{0.111111111111111 \\left(- 24.0 a^{2} \\hbar - 20.0 \\alpha \\hbar\\right)}{a m} + \\frac{0.142857142857143 \\left(13.0 a^{2} \\hbar + 21.0 \\hbar\\right)}{a m}}{- 0.4 a^{3} - 0.0871794871794872 a \\alpha^{2} + 0.142857142857143 a \\left(1.0 a^{4} + 2.0 \\alpha\\right) + 0.111111111111111 a \\left(- 2.0 a^{2} \\alpha - 2.0 \\alpha\\right) + 0.0909090909090909 a \\left(2.0 a^{2} \\alpha + 1.0 \\alpha^{2}\\right) + 0.333333333333333 a}$"
      ],
      "text/plain": [
       "                                                                              \n",
       "⎛                                            ⎛       2      ⎞                 \n",
       "⎝0.174358974358974⋅a⋅α - 0.111111111111111⋅a⋅⎝- 2.0⋅a  - 2.0⎠ - 0.090909090909\n",
       "                                                                              \n",
       "──────────────────────────────────────────────────────────────────────────────\n",
       "                                                                              \n",
       "                                                    ⎛       3                 \n",
       "                                                    ⎝- 0.4⋅a  - 0.087179487179\n",
       "\n",
       "                                               ⎛                            2 \n",
       "       ⎛     2        ⎞                      ⎞ ⎜1.0⋅a⋅h̅   1.2027972027972⋅α ⋅\n",
       "0909⋅a⋅⎝2.0⋅a  + 2.0⋅α⎠ - 0.285714285714286⋅a⎠⋅⎜──────── + ───────────────────\n",
       "                                               ⎝   m                a⋅m       \n",
       "──────────────────────────────────────────────────────────────────────────────\n",
       "                                                                              \n",
       "        2                       ⎛     4        ⎞                       ⎛      \n",
       "4872⋅a⋅α  + 0.142857142857143⋅a⋅⎝1.0⋅a  + 2.0⋅α⎠ + 0.111111111111111⋅a⋅⎝- 2.0⋅\n",
       "\n",
       "         ⎛       4               ⎞                     ⎛        2             \n",
       "h̅   0.2⋅⎝- 3.0⋅a ⋅h̅ - 10.0⋅α⋅h̅⎠   0.111111111111111⋅⎝- 24.0⋅a ⋅α⋅h̅ - 10.0⋅\n",
       "── + ───────────────────────────── + ─────────────────────────────────────────\n",
       "                  a⋅m                                      a⋅m                \n",
       "──────────────────────────────────────────────────────────────────────────────\n",
       "                                                                              \n",
       " 2          ⎞                        ⎛     2          2⎞                      \n",
       "a ⋅α - 2.0⋅α⎠ + 0.0909090909090909⋅a⋅⎝2.0⋅a ⋅α + 1.0⋅α ⎠ + 0.333333333333333⋅a\n",
       "\n",
       " 2   ⎞                     ⎛      2                 ⎞⎞                        \n",
       "α ⋅h̅⎠   0.142857142857143⋅⎝13.0⋅a ⋅α⋅h̅ + 21.0⋅α⋅h̅⎠⎟                        \n",
       "────── + ────────────────────────────────────────────⎟                        \n",
       "                             a⋅m                     ⎠                        \n",
       "────────────────────────────────────────────────────── + ─────────────────────\n",
       " 2                                                              3             \n",
       "⎞                                                        - 0.4⋅a  - 0.08717948\n",
       "⎠                                                                             \n",
       "\n",
       "                                                             ⎛        2       \n",
       "          2.40559440559441⋅α⋅h̅   2.0⋅h̅   0.111111111111111⋅⎝- 24.0⋅a ⋅h̅ - 2\n",
       "          ───────────────────── - ────── + ───────────────────────────────────\n",
       "                   a⋅m             a⋅m                         a⋅m            \n",
       "──────────────────────────────────────────────────────────────────────────────\n",
       "            2                       ⎛     4        ⎞                       ⎛  \n",
       "71794872⋅a⋅α  + 0.142857142857143⋅a⋅⎝1.0⋅a  + 2.0⋅α⎠ + 0.111111111111111⋅a⋅⎝- \n",
       "                                                                              \n",
       "\n",
       "        ⎞                     ⎛      2             ⎞                          \n",
       "0.0⋅α⋅h̅⎠   0.142857142857143⋅⎝13.0⋅a ⋅h̅ + 21.0⋅h̅⎠                          \n",
       "───────── + ────────────────────────────────────────                          \n",
       "                              a⋅m                                             \n",
       "──────────────────────────────────────────────────────────────────────────────\n",
       "     2          ⎞                        ⎛     2          2⎞                  \n",
       "2.0⋅a ⋅α - 2.0⋅α⎠ + 0.0909090909090909⋅a⋅⎝2.0⋅a ⋅α + 1.0⋅α ⎠ + 0.3333333333333\n",
       "                                                                              \n",
       "\n",
       "    \n",
       "    \n",
       "    \n",
       "    \n",
       "────\n",
       "    \n",
       "33⋅a\n",
       "    "
      ]
     },
     "execution_count": 7,
     "metadata": {},
     "output_type": "execute_result"
    }
   ],
   "source": [
    "first_d=sym.diff((Etrial),alpha)\n",
    "first_d"
   ]
  },
  {
   "cell_type": "code",
   "execution_count": 8,
   "metadata": {},
   "outputs": [
    {
     "data": {
      "image/png": "[encoded data removed]",
      "text/latex": [
       "$\\displaystyle \\frac{- \\frac{3 a^{3} \\hbar}{5 m} + \\frac{a \\hbar}{m}}{\\frac{a^{5}}{7} - \\frac{2 a^{3}}{5} + \\frac{a}{3}}$"
      ],
      "text/plain": [
       "     3          \n",
       "  3⋅a ⋅h̅   a⋅h̅\n",
       "- ─────── + ────\n",
       "    5⋅m      m  \n",
       "────────────────\n",
       "  5      3      \n",
       " a    2⋅a    a  \n",
       " ── - ──── + ─  \n",
       " 7     5     3  "
      ]
     },
     "execution_count": 8,
     "metadata": {},
     "output_type": "execute_result"
    }
   ],
   "source": [
    "twf_newalpha=((x/a)-(x**3)/a)+0*((x**5)/(a**5)-0.5*((x**7)/(a**7)+(x**7)/(a**7)))\n",
    "single_newalpha=(sym.diff((twf_newalpha),x))\n",
    "double_newalpha=(sym.diff((single_newalpha),x))\n",
    "upper_i_newalpha=twf_newalpha*(-1*hbar)/(2*m)*double_newalpha\n",
    "upper_i_ans_newalpha=(sym.integrate((upper_i_newalpha),(x,0,a)))\n",
    "lower_i_newalpha=twf_newalpha**2\n",
    "lower_i_ans_newalpha=(sym.integrate((lower_i_newalpha),(x,0,a)))\n",
    "Etrial_newalpha=upper_i_ans_newalpha/lower_i_ans_newalpha\n",
    "Etrial_newalpha"
   ]
  },
  {
   "cell_type": "code",
   "execution_count": 9,
   "metadata": {
    "scrolled": true
   },
   "outputs": [
    {
     "data": {
      "text/plain": [
       "<Figure size 640x480 with 1 Axes>"
      ]
     },
     "metadata": {},
     "output_type": "display_data"
    },
    {
     "name": "stdout",
     "output_type": "stream",
     "text": [
      "Please ignore y-axis as the function is multiplied by a constant.\n"
     ]
    }
   ],
   "source": [
    "import numpy as np\n",
    "import matplotlib.pyplot as plt\n",
    "pi = np.pi\n",
    "z = np.linspace(0.00000000001,1,100)\n",
    "y1 = np.sin(pi*z)\n",
    "plt.plot(z,y1)\n",
    "plt.xlabel('a/x', fontsize=24)\n",
    "plt.show()\n",
    "print('Please ignore y-axis as the function is multiplied by a constant.')"
   ]
  },
  {
   "cell_type": "code",
   "execution_count": 10,
   "metadata": {},
   "outputs": [
    {
     "name": "stdout",
     "output_type": "stream",
     "text": [
      "Compare my wave function to the true one: DIFFERENT!\n"
     ]
    }
   ],
   "source": [
    "print('Compare my wave function to the true one: DIFFERENT!')"
   ]
  },
  {
   "cell_type": "markdown",
   "metadata": {},
   "source": [
    "### 2.3 Exercise: New trial wavefunction"
   ]
  },
  {
   "cell_type": "markdown",
   "metadata": {},
   "source": [
    "Determine the minimum energy of the particle in a box using a new trial wavefunction $$x^\\alpha(x-a)^\\alpha$$\n",
    "\n",
    "1. Find the minimum energy, $E_{trial}$\n",
    "2. Plot the new trial wavefunction and compare it to the true solution and the wavefunction you found above\n",
    "3. Compare you new energy to the trial energy you found above\n",
    "4. Which wavefunction is better? How do you know?"
   ]
  },
  {
   "cell_type": "code",
   "execution_count": 11,
   "metadata": {},
   "outputs": [
    {
     "data": {
      "image/png": "[encoded data removed]",
      "text/latex": [
       "$\\displaystyle x^{\\alpha} \\left(- \\alpha + x\\right)^{\\alpha}$"
      ],
      "text/plain": [
       " α         α\n",
       "x ⋅(-α + x) "
      ]
     },
     "execution_count": 11,
     "metadata": {},
     "output_type": "execute_result"
    }
   ],
   "source": [
    "sym.init_printing()\n",
    "x,a,m,alpha,hbar=sym.symbols('x,a,m,alpha,h_bar')\n",
    "\n",
    "twf_2=x**alpha*(x-alpha)**alpha\n",
    "twf_2"
   ]
  },
  {
   "cell_type": "code",
   "execution_count": 12,
   "metadata": {},
   "outputs": [
    {
     "data": {
      "image/png": "[encoded data removed]",
      "text/latex": [
       "$\\displaystyle \\frac{\\alpha^{2} x^{\\alpha} \\left(- \\alpha + x\\right)^{\\alpha}}{\\left(- \\alpha + x\\right)^{2}} + \\frac{2 \\alpha^{2} x^{\\alpha} \\left(- \\alpha + x\\right)^{\\alpha}}{x \\left(- \\alpha + x\\right)} + \\frac{\\alpha^{2} x^{\\alpha} \\left(- \\alpha + x\\right)^{\\alpha}}{x^{2}} - \\frac{\\alpha x^{\\alpha} \\left(- \\alpha + x\\right)^{\\alpha}}{\\left(- \\alpha + x\\right)^{2}} - \\frac{\\alpha x^{\\alpha} \\left(- \\alpha + x\\right)^{\\alpha}}{x^{2}}$"
      ],
      "text/plain": [
       " 2  α         α      2  α         α    2  α         α      α         α      α \n",
       "α ⋅x ⋅(-α + x)    2⋅α ⋅x ⋅(-α + x)    α ⋅x ⋅(-α + x)    α⋅x ⋅(-α + x)    α⋅x ⋅\n",
       "─────────────── + ───────────────── + ─────────────── - ────────────── - ─────\n",
       "           2          x⋅(-α + x)              2                   2           \n",
       "   (-α + x)                                  x            (-α + x)            \n",
       "\n",
       "        α\n",
       "(-α + x) \n",
       "─────────\n",
       "  2      \n",
       " x       "
      ]
     },
     "execution_count": 12,
     "metadata": {},
     "output_type": "execute_result"
    }
   ],
   "source": [
    "single_2=(sym.diff((twf_2),x))\n",
    "double_2=(sym.diff((single_2),x))\n",
    "double_2"
   ]
  },
  {
   "cell_type": "code",
   "execution_count": null,
   "metadata": {},
   "outputs": [],
   "source": [
    "upper_i_2=twf_2*(-1*hbar)/(2*m)*double_2\n",
    "upper_i_ans_2=(sym.integrate((upper_i_2),(x,0,a)))\n",
    "upper_i_ans_2"
   ]
  },
  {
   "cell_type": "code",
   "execution_count": null,
   "metadata": {},
   "outputs": [],
   "source": [
    "lower_i_2=twf_2**2\n",
    "lower_i_ans_2=(sym.integrate((lower_i_2),(x,0,a)))\n",
    "lower_i_ans_2"
   ]
  },
  {
   "cell_type": "code",
   "execution_count": null,
   "metadata": {},
   "outputs": [],
   "source": [
    "Etrial_2=upper_i_ans_2/lower_i_ans_2\n",
    "Etrial_2"
   ]
  },
  {
   "cell_type": "code",
   "execution_count": null,
   "metadata": {},
   "outputs": [],
   "source": [
    "print('The first E_trial is better because it looks closer to the true E')"
   ]
  },
  {
   "cell_type": "markdown",
   "metadata": {},
   "source": [
    "### 2.4 Exercise: Design your own wavefunction!"
   ]
  },
  {
   "cell_type": "markdown",
   "metadata": {},
   "source": [
    "**Now you get to make your own wavefunction!**\n",
    "\n",
    "The only guidance I would give you is that it make sense mathematically and that it include $\\alpha$ so that you can minimize the energy.\n",
    "\n",
    "Remember that $a$ and $x$ are both length units, and that trigonometric, logarithmic, and exponential functions are all unitless  \n",
    "\n",
    "\n",
    "Using your new wavefunction:\n",
    "\n",
    "1. Find the minimum energy, $E_{trial}$\n",
    "2. Plot the new trial wavefunction and compare it to the true solution and the wavefunction you found above\n",
    "3. Compare you new energy to the trial energy you found above\n",
    "4. Which wavefunction is better? How do you know?"
   ]
  },
  {
   "cell_type": "code",
   "execution_count": null,
   "metadata": {},
   "outputs": [],
   "source": [
    "sym.init_printing()\n",
    "x,a,m,alpha,hbar=sym.symbols('x,a,m,alpha,h_bar')\n",
    "\n",
    "twf_3=a**x*alpha\n",
    "twf_3"
   ]
  },
  {
   "cell_type": "code",
   "execution_count": null,
   "metadata": {},
   "outputs": [],
   "source": [
    "single_3=(sym.diff((twf_3),x))\n",
    "double_3=(sym.diff((single_3),x))\n",
    "double_3"
   ]
  },
  {
   "cell_type": "code",
   "execution_count": null,
   "metadata": {
    "scrolled": true
   },
   "outputs": [],
   "source": [
    "upper_i_3=twf_3*(-1*hbar)/(2*m)*double_3\n",
    "upper_i_ans_3=(sym.integrate((upper_i_3),(x,0,a)))\n",
    "upper_i_ans_3"
   ]
  },
  {
   "cell_type": "code",
   "execution_count": null,
   "metadata": {},
   "outputs": [],
   "source": [
    "lower_i_3=twf_3**2\n",
    "lower_i_ans_3=(sym.integrate((lower_i_3),(x,0,a)))\n",
    "lower_i_ans_3"
   ]
  },
  {
   "cell_type": "code",
   "execution_count": null,
   "metadata": {},
   "outputs": [],
   "source": [
    "Etrial_3=upper_i_ans_3/lower_i_ans_3\n",
    "Etrial_3"
   ]
  },
  {
   "cell_type": "code",
   "execution_count": null,
   "metadata": {},
   "outputs": [],
   "source": [
    "print('The first E_trial is still better because this try is far from the true E as well.')"
   ]
  },
  {
   "cell_type": "markdown",
   "metadata": {},
   "source": [
    "# Reading Homework"
   ]
  },
  {
   "cell_type": "markdown",
   "metadata": {},
   "source": [
    "Read the following sections in Kramer\n",
    "\n",
    "- 4.2.3 Born-Oppenheimer approximation\n",
    "- 4.3.2 Secular equation\n",
    "- All of 4.5\n",
    "\n",
    "For each subsection\n",
    "- write down the subchapter name\n",
    "- what was the most important idea\n",
    "- draw an idea digram of the main idea\n",
    "\n",
    "**Make sure to upload this to the assignment repository**\n",
    "\n",
    "Example idea diagram:\n",
    "![Particle in a box](idea_map.png)"
   ]
  },
  {
   "cell_type": "code",
   "execution_count": null,
   "metadata": {},
   "outputs": [],
   "source": []
  }
 ],
 "metadata": {
  "kernelspec": {
   "display_name": "Python 3",
   "language": "python",
   "name": "python3"
  },
  "language_info": {
   "codemirror_mode": {
    "name": "ipython",
    "version": 3
   },
   "file_extension": ".py",
   "mimetype": "text/x-python",
   "name": "python",
   "nbconvert_exporter": "python",
   "pygments_lexer": "ipython3",
   "version": "3.7.3"
  }
 },
 "nbformat": 4,
 "nbformat_minor": 2
}
